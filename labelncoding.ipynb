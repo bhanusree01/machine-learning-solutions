{
  "metadata": {
    "kernelspec": {
      "name": "python",
      "display_name": "Python (Pyodide)",
      "language": "python"
    },
    "language_info": {
      "codemirror_mode": {
        "name": "python",
        "version": 3
      },
      "file_extension": ".py",
      "mimetype": "text/x-python",
      "name": "python",
      "nbconvert_exporter": "python",
      "pygments_lexer": "ipython3",
      "version": "3.8"
    }
  },
  "nbformat_minor": 4,
  "nbformat": 4,
  "cells": [
    {
      "cell_type": "code",
      "source": "import numpy as np\nimport pandas as pd\nfrom sklearn import preprocessing\ndf=pd.DataFrame({'x1':[10,14,18,25,28,34,40]})\nscaler=preprocessing.MinMaxScaler()\nscaled_df=scaler.fit_transform(df)\nscaled_df2=pd.DataFrame(scaled_df,columns=['x1'])\nscaled_df2",
      "metadata": {
        "trusted": true
      },
      "outputs": [
        {
          "execution_count": 3,
          "output_type": "execute_result",
          "data": {
            "text/plain": "         x1\n0  0.000000\n1  0.133333\n2  0.266667\n3  0.500000\n4  0.600000\n5  0.800000\n6  1.000000",
            "text/html": "<div>\n<style scoped>\n    .dataframe tbody tr th:only-of-type {\n        vertical-align: middle;\n    }\n\n    .dataframe tbody tr th {\n        vertical-align: top;\n    }\n\n    .dataframe thead th {\n        text-align: right;\n    }\n</style>\n<table border=\"1\" class=\"dataframe\">\n  <thead>\n    <tr style=\"text-align: right;\">\n      <th></th>\n      <th>x1</th>\n    </tr>\n  </thead>\n  <tbody>\n    <tr>\n      <th>0</th>\n      <td>0.000000</td>\n    </tr>\n    <tr>\n      <th>1</th>\n      <td>0.133333</td>\n    </tr>\n    <tr>\n      <th>2</th>\n      <td>0.266667</td>\n    </tr>\n    <tr>\n      <th>3</th>\n      <td>0.500000</td>\n    </tr>\n    <tr>\n      <th>4</th>\n      <td>0.600000</td>\n    </tr>\n    <tr>\n      <th>5</th>\n      <td>0.800000</td>\n    </tr>\n    <tr>\n      <th>6</th>\n      <td>1.000000</td>\n    </tr>\n  </tbody>\n</table>\n</div>"
          },
          "metadata": {}
        }
      ],
      "execution_count": 3
    },
    {
      "cell_type": "code",
      "source": "import numpy as np\nimport pandas as pd\nfrom sklearn import preprocessing\ndf=pd.DataFrame({'x1':[10,14,18,25,28,34,40]})\nscaler=preprocessing.StandardScaler()\nscaled_df=scaler.fit_transform(df)\nscaled_df2=pd.DataFrame(scaled_df,columns=['x1'])\nscaled_df2",
      "metadata": {
        "trusted": true
      },
      "outputs": [
        {
          "execution_count": 5,
          "output_type": "execute_result",
          "data": {
            "text/plain": "         x1\n0 -1.409404\n1 -1.010785\n2 -0.612166\n3  0.085418\n4  0.384383\n5  0.982312\n6  1.580241",
            "text/html": "<div>\n<style scoped>\n    .dataframe tbody tr th:only-of-type {\n        vertical-align: middle;\n    }\n\n    .dataframe tbody tr th {\n        vertical-align: top;\n    }\n\n    .dataframe thead th {\n        text-align: right;\n    }\n</style>\n<table border=\"1\" class=\"dataframe\">\n  <thead>\n    <tr style=\"text-align: right;\">\n      <th></th>\n      <th>x1</th>\n    </tr>\n  </thead>\n  <tbody>\n    <tr>\n      <th>0</th>\n      <td>-1.409404</td>\n    </tr>\n    <tr>\n      <th>1</th>\n      <td>-1.010785</td>\n    </tr>\n    <tr>\n      <th>2</th>\n      <td>-0.612166</td>\n    </tr>\n    <tr>\n      <th>3</th>\n      <td>0.085418</td>\n    </tr>\n    <tr>\n      <th>4</th>\n      <td>0.384383</td>\n    </tr>\n    <tr>\n      <th>5</th>\n      <td>0.982312</td>\n    </tr>\n    <tr>\n      <th>6</th>\n      <td>1.580241</td>\n    </tr>\n  </tbody>\n</table>\n</div>"
          },
          "metadata": {}
        }
      ],
      "execution_count": 5
    },
    {
      "cell_type": "code",
      "source": "df2=pd.DataFrame({'deg':['ssc','inter','batch','mtech','mtech','inter']})\ndf2",
      "metadata": {
        "trusted": true
      },
      "outputs": [
        {
          "execution_count": 7,
          "output_type": "execute_result",
          "data": {
            "text/plain": "     deg\n0    ssc\n1  inter\n2  batch\n3  mtech\n4  mtech\n5  inter",
            "text/html": "<div>\n<style scoped>\n    .dataframe tbody tr th:only-of-type {\n        vertical-align: middle;\n    }\n\n    .dataframe tbody tr th {\n        vertical-align: top;\n    }\n\n    .dataframe thead th {\n        text-align: right;\n    }\n</style>\n<table border=\"1\" class=\"dataframe\">\n  <thead>\n    <tr style=\"text-align: right;\">\n      <th></th>\n      <th>deg</th>\n    </tr>\n  </thead>\n  <tbody>\n    <tr>\n      <th>0</th>\n      <td>ssc</td>\n    </tr>\n    <tr>\n      <th>1</th>\n      <td>inter</td>\n    </tr>\n    <tr>\n      <th>2</th>\n      <td>batch</td>\n    </tr>\n    <tr>\n      <th>3</th>\n      <td>mtech</td>\n    </tr>\n    <tr>\n      <th>4</th>\n      <td>mtech</td>\n    </tr>\n    <tr>\n      <th>5</th>\n      <td>inter</td>\n    </tr>\n  </tbody>\n</table>\n</div>"
          },
          "metadata": {}
        }
      ],
      "execution_count": 7
    },
    {
      "cell_type": "code",
      "source": "from sklearn import preprocessing\nlabel_encoder=preprocessing.LabelEncoder()\ndf2['deg1']=label_encoder.fit_transform(df2['deg'])\ndf2",
      "metadata": {
        "trusted": true
      },
      "outputs": [
        {
          "execution_count": 8,
          "output_type": "execute_result",
          "data": {
            "text/plain": "     deg  deg1\n0    ssc     3\n1  inter     1\n2  batch     0\n3  mtech     2\n4  mtech     2\n5  inter     1",
            "text/html": "<div>\n<style scoped>\n    .dataframe tbody tr th:only-of-type {\n        vertical-align: middle;\n    }\n\n    .dataframe tbody tr th {\n        vertical-align: top;\n    }\n\n    .dataframe thead th {\n        text-align: right;\n    }\n</style>\n<table border=\"1\" class=\"dataframe\">\n  <thead>\n    <tr style=\"text-align: right;\">\n      <th></th>\n      <th>deg</th>\n      <th>deg1</th>\n    </tr>\n  </thead>\n  <tbody>\n    <tr>\n      <th>0</th>\n      <td>ssc</td>\n      <td>3</td>\n    </tr>\n    <tr>\n      <th>1</th>\n      <td>inter</td>\n      <td>1</td>\n    </tr>\n    <tr>\n      <th>2</th>\n      <td>batch</td>\n      <td>0</td>\n    </tr>\n    <tr>\n      <th>3</th>\n      <td>mtech</td>\n      <td>2</td>\n    </tr>\n    <tr>\n      <th>4</th>\n      <td>mtech</td>\n      <td>2</td>\n    </tr>\n    <tr>\n      <th>5</th>\n      <td>inter</td>\n      <td>1</td>\n    </tr>\n  </tbody>\n</table>\n</div>"
          },
          "metadata": {}
        }
      ],
      "execution_count": 8
    }
  ]
}